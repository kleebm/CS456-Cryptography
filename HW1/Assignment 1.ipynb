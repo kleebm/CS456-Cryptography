{
 "cells": [
  {
   "cell_type": "markdown",
   "metadata": {},
   "source": [
    "# CS456 Cryptography\n",
    "## Bryan Klee\n",
    "### Student Id:0624280\n",
    "\n",
    "Collaborated with Tyler Pawlaczyk"
   ]
  },
  {
   "cell_type": "code",
   "execution_count": 1,
   "metadata": {},
   "outputs": [],
   "source": [
    "import numpy\n",
    "import matplotlib.pyplot as plt\n",
    "from collections import Counter, OrderedDict"
   ]
  },
  {
   "cell_type": "code",
   "execution_count": 2,
   "metadata": {},
   "outputs": [],
   "source": [
    "encrypted_message= \"\"\"UERFHWAQAQWGUZXNSUMUZPYWUZNQDN\n",
    "QZXYUMSNSQZRFHSWTQVFAAQVNYRGQV\n",
    "ARPNQGNSQEUAMNSFIQLFABEFAFHAVA\n",
    "RPNFXAWPSRVFHAMQEFANSUMEWYYNLQ\n",
    "ZNRZUZQNQQZMQIQMNQAPYQWMQMHCIU\n",
    "NNSQEFYYFLUZXUNQIMEFANSUMSFIQL\n",
    "FABCRQIWUYEUAMNMQZGNSQMHCMNUNH\n",
    "NUFZNWCYQEFANSQVUPSQAHMQGNFQZV\n",
    "ARPNNSUMSFIQLFABMQVFZGUIPYQIQZ\n",
    "NRFHAFLZVUPSQACWMQGFZVYWMMUVWY\n",
    "UGQWMNSWNWAQBZFLZUZNSQYUNQAWNH\n",
    "AQUNMSFHYGCQUIPYQIQZNQGUZWPAFX\n",
    "AWIIUZXYWZXHWXQFERFHAVSFUVQWAA\n",
    "WZXQEFAWZFZYUZQGQIFZMNAWNUFZFE\n",
    "RFHAMRMNQINSUAGLAUNQWMIWYYAQPF\n",
    "ANFZNSQMNWNUMNUVWYYQNNQAEAQKHQ\n",
    "ZVUQMFEQZXYUMSWZGWNYQWMNFZQIFA\n",
    "QZWNHAWYYWZXHWXQWZGGQNQAIUZQLS\n",
    "UVSSWMIFAQQZNAFPRNSUMSFIQLFABU\n",
    "MGHQCQEFAQNSQAQWGUZXCAQWB\"\"\".replace(\"\\n\",\"\")"
   ]
  },
  {
   "cell_type": "code",
   "execution_count": 3,
   "metadata": {},
   "outputs": [],
   "source": [
    "character_frequency = Counter(encrypted_message)"
   ]
  },
  {
   "cell_type": "code",
   "execution_count": 4,
   "metadata": {},
   "outputs": [
    {
     "name": "stdout",
     "output_type": "stream",
     "text": [
      "Counter({'Q': 78, 'N': 55, 'A': 49, 'F': 46, 'U': 43, 'Z': 41, 'W': 39, 'M': 35, 'S': 30, 'Y': 26, 'I': 20, 'H': 18, 'G': 17, 'V': 16, 'E': 15, 'R': 14, 'X': 13, 'P': 13, 'L': 10, 'C': 8, 'B': 6, 'D': 1, 'T': 1, 'K': 1})\n"
     ]
    }
   ],
   "source": [
    "print(character_frequency)"
   ]
  },
  {
   "cell_type": "code",
   "execution_count": 5,
   "metadata": {},
   "outputs": [
    {
     "data": {
      "text/plain": [
       "<BarContainer object of 24 artists>"
      ]
     },
     "execution_count": 5,
     "metadata": {},
     "output_type": "execute_result"
    },
    {
     "data": {
      "image/png": "[encoded data removed]",
      "text/plain": [
       "<Figure size 432x288 with 1 Axes>"
      ]
     },
     "metadata": {
      "needs_background": "light"
     },
     "output_type": "display_data"
    }
   ],
   "source": [
    "plt.bar(character_frequency.keys(), character_frequency.values())"
   ]
  },
  {
   "cell_type": "code",
   "execution_count": 6,
   "metadata": {},
   "outputs": [],
   "source": [
    "sorted_char_freq = sorted(character_frequency.items(), key=lambda kv: kv[1], reverse=True)"
   ]
  },
  {
   "cell_type": "code",
   "execution_count": 7,
   "metadata": {},
   "outputs": [
    {
     "name": "stdout",
     "output_type": "stream",
     "text": [
      "[('Q', 78), ('N', 55), ('A', 49), ('F', 46), ('U', 43), ('Z', 41), ('W', 39), ('M', 35), ('S', 30), ('Y', 26), ('I', 20), ('H', 18), ('G', 17), ('V', 16), ('E', 15), ('R', 14), ('X', 13), ('P', 13), ('L', 10), ('C', 8), ('B', 6), ('D', 1), ('T', 1), ('K', 1)]\n"
     ]
    }
   ],
   "source": [
    "print(sorted_char_freq)"
   ]
  },
  {
   "cell_type": "code",
   "execution_count": 8,
   "metadata": {},
   "outputs": [],
   "source": [
    "encrypt_key = []\n",
    "for key in sorted_char_freq:\n",
    "    encrypt_key.append(key[0])"
   ]
  },
  {
   "cell_type": "code",
   "execution_count": 9,
   "metadata": {},
   "outputs": [],
   "source": [
    "alpha_frequency = [\"E\" ,\"T\" ,\"A\" ,\"O\" ,\"I\" ,\"N\" ,\"S\" ,\"R\" ,\"H\" ,\"D\" ,\"L\" ,\"C\",\"U\" \n",
    "                   ,\"M\", \"F\" , \"Y\",\"W\",\"G\",\"P\",\"B\",\"V\",\"K\",\"X\",\"Q\",\"J\",\"Z\"]\n"
   ]
  },
  {
   "cell_type": "code",
   "execution_count": 10,
   "metadata": {},
   "outputs": [
    {
     "name": "stdout",
     "output_type": "stream",
     "text": [
      "['Q', 'N', 'A', 'F', 'U', 'Z', 'W', 'M', 'S', 'Y', 'I', 'H', 'G', 'V', 'E', 'R', 'X', 'P', 'L', 'C', 'B', 'D', 'T', 'K']\n"
     ]
    }
   ],
   "source": [
    "print(encrypt_key)"
   ]
  },
  {
   "cell_type": "code",
   "execution_count": 11,
   "metadata": {},
   "outputs": [
    {
     "name": "stdout",
     "output_type": "stream",
     "text": [
      "{'Q': 'E', 'N': 'T', 'A': 'A', 'F': 'O', 'U': 'I', 'Z': 'N', 'W': 'S', 'M': 'R', 'S': 'H', 'Y': 'D', 'I': 'L', 'H': 'C', 'G': 'U', 'V': 'M', 'E': 'F', 'R': 'Y', 'X': 'W', 'P': 'G', 'L': 'P', 'C': 'B', 'B': 'V', 'D': 'K', 'T': 'X', 'K': 'Q'}\n"
     ]
    }
   ],
   "source": [
    "keys=encrypt_key\n",
    "values=alpha_frequency\n",
    "cypher=dict(zip(keys,values))\n",
    "print(cypher)"
   ]
  },
  {
   "cell_type": "code",
   "execution_count": 12,
   "metadata": {},
   "outputs": [],
   "source": [
    "def decrypt():\n",
    "    keys=encrypt_key\n",
    "    values=alpha_frequency\n",
    "    cypher=dict(zip(keys,values))\n",
    "    \n",
    "    output2 = \"\"\n",
    "    for char in encrypted_message:\n",
    "        output2 = output2 + cypher[char]\n",
    "    \n",
    "    print(output2)"
   ]
  },
  {
   "cell_type": "code",
   "execution_count": 13,
   "metadata": {},
   "outputs": [
    {
     "name": "stdout",
     "output_type": "stream",
     "text": [
      "IFYOCSAEAESUINWTHIRINGDSINTEKTENWDIRHTHENYOCHSXEMOAAEMTDYUEMAYGTEUTHEFIARTHOLEPOAVFOAOCAMAYGTOWASGHYMOCAREFOATHIRFSDDTPENTYNINETEENRELERTEAGDESRERCBLITTHEFODDOPINWITELRFOATHIRHOLEPOAVBYELSIDFIARTRENUTHERCBRTITCTIONTSBDEFOATHEMIGHEACREUTOENMAYGTTHIRHOLEPOAVREMONUILGDELENTYOCAOPNMIGHEABSREUONMDSRRIMSDIUESRTHSTSAEVNOPNINTHEDITEASTCAEITRHOCDUBEILGDELENTEUINSGAOWASLLINWDSNWCSWEOFYOCAMHOIMESAASNWEFOASNONDINEUELONRTASTIONOFYOCARYRTELTHIAUPAITESRLSDDAEGOATONTHERTSTIRTIMSDDETTEAFAEQCENMIEROFENWDIRHSNUSTDESRTONELOAENSTCASDDSNWCSWESNUUETEALINEPHIMHHSRLOAEENTAOGYTHIRHOLEPOAVIRUCEBEFOAETHEAESUINWBAESV\n"
     ]
    }
   ],
   "source": [
    "decrypt()"
   ]
  },
  {
   "cell_type": "code",
   "execution_count": 14,
   "metadata": {},
   "outputs": [
    {
     "name": "stdout",
     "output_type": "stream",
     "text": [
      "IFYOUSAEAESCINWTHIRINGDSINTEKTENWDIRHTHENYOUHSXEMOAAEMTDYCEMAYGTECTHEFIARTHOLEPOAVFOAOUAMAYGTOWASGHYMOUAREFOATHIRFSDDTPENTYNINETEENRELERTEAGDESRERUBLITTHEFODDOPINWITELRFOATHIRHOLEPOAVBYELSIDFIARTRENCTHERUBRTITUTIONTSBDEFOATHEMIGHEAURECTOENMAYGTTHIRHOLEPOAVREMONCILGDELENTYOUAOPNMIGHEABSRECONMDSRRIMSDICESRTHSTSAEVNOPNINTHEDITEASTUAEITRHOUDCBEILGDELENTECINSGAOWASLLINWDSNWUSWEOFYOUAMHOIMESAASNWEFOASNONDINECELONRTASTIONOFYOUARYRTELTHIACPAITESRLSDDAEGOATONTHERTSTIRTIMSDDETTEAFAEQUENMIEROFENWDIRHSNCSTDESRTONELOAENSTUASDDSNWUSWESNCCETEALINEPHIMHHSRLOAEENTAOGYTHIRHOLEPOAVIRCUEBEFOAETHEAESCINWBAESV\n"
     ]
    }
   ],
   "source": [
    "alpha_frequency[11]='U'\n",
    "alpha_frequency[12]='C'\n",
    "decrypt()"
   ]
  },
  {
   "cell_type": "code",
   "execution_count": 15,
   "metadata": {},
   "outputs": [
    {
     "name": "stdout",
     "output_type": "stream",
     "text": [
      "['E', 'T', 'R', 'O', 'I', 'N', 'S', 'A', 'H', 'D', 'L', 'U', 'C', 'M', 'F', 'Y', 'W', 'G', 'P', 'B', 'V', 'K', 'X', 'Q', 'J', 'Z']\n",
      "IFYOUSRERESCINWTHIAINGDSINTEKTENWDIAHTHENYOUHSXEMORREMTDYCEMRYGTECTHEFIRATHOLEPORVFOROURMRYGTOWRSGHYMOURAEFORTHIAFSDDTPENTYNINETEENAELEATERGDESAEAUBLITTHEFODDOPINWITELAFORTHIAHOLEPORVBYELSIDFIRATAENCTHEAUBATITUTIONTSBDEFORTHEMIGHERUAECTOENMRYGTTHIAHOLEPORVAEMONCILGDELENTYOUROPNMIGHERBSAECONMDSAAIMSDICESATHSTSREVNOPNINTHEDITERSTUREITAHOUDCBEILGDELENTECINSGROWRSLLINWDSNWUSWEOFYOURMHOIMESRRSNWEFORSNONDINECELONATRSTIONOFYOURAYATELTHIRCPRITESALSDDREGORTONTHEATSTIATIMSDDETTERFREQUENMIEAOFENWDIAHSNCSTDESATONELORENSTURSDDSNWUSWESNCCETERLINEPHIMHHSALOREENTROGYTHIAHOLEPORVIACUEBEFORETHERESCINWBRESV\n"
     ]
    }
   ],
   "source": [
    "alpha_frequency[2]='R'\n",
    "alpha_frequency[7]='A'\n",
    "print(alpha_frequency)\n",
    "decrypt()"
   ]
  },
  {
   "cell_type": "code",
   "execution_count": 16,
   "metadata": {},
   "outputs": [
    {
     "name": "stdout",
     "output_type": "stream",
     "text": [
      "IFYOUAREREACINWTHISINGDAINTEKTENWDISHTHENYOUHAXEMORREMTDYCEMRYGTECTHEFIRSTHOLEPORVFOROURMRYGTOWRAGHYMOURSEFORTHISFADDTPENTYNINETEENSELESTERGDEASESUBLITTHEFODDOPINWITELSFORTHISHOLEPORVBYELAIDFIRSTSENCTHESUBSTITUTIONTABDEFORTHEMIGHERUSECTOENMRYGTTHISHOLEPORVSEMONCILGDELENTYOUROPNMIGHERBASECONMDASSIMADICEASTHATAREVNOPNINTHEDITERATUREITSHOUDCBEILGDELENTECINAGROWRALLINWDANWUAWEOFYOURMHOIMEARRANWEFORANONDINECELONSTRATIONOFYOURSYSTELTHIRCPRITEASLADDREGORTONTHESTATISTIMADDETTERFREQUENMIESOFENWDISHANCATDEASTONELORENATURADDANWUAWEANCCETERLINEPHIMHHASLOREENTROGYTHISHOLEPORVISCUEBEFORETHEREACINWBREAV\n"
     ]
    }
   ],
   "source": [
    "alpha_frequency[6]='A'\n",
    "alpha_frequency[7]='S'\n",
    "decrypt()"
   ]
  },
  {
   "cell_type": "code",
   "execution_count": 17,
   "metadata": {},
   "outputs": [
    {
     "name": "stdout",
     "output_type": "stream",
     "text": [
      "['E', 'T', 'R', 'O', 'I', 'N', 'A', 'S', 'H', 'C', 'L', 'U', 'D', 'M', 'F', 'Y', 'W', 'G', 'P', 'B', 'V', 'K', 'X', 'Q', 'J', 'Z']\n",
      "IFYOUAREREADINWTHISINGCAINTEKTENWCISHTHENYOUHAXEMORREMTCYDEMRYGTEDTHEFIRSTHOLEPORVFOROURMRYGTOWRAGHYMOURSEFORTHISFACCTPENTYNINETEENSELESTERGCEASESUBLITTHEFOCCOPINWITELSFORTHISHOLEPORVBYELAICFIRSTSENDTHESUBSTITUTIONTABCEFORTHEMIGHERUSEDTOENMRYGTTHISHOLEPORVSEMONDILGCELENTYOUROPNMIGHERBASEDONMCASSIMACIDEASTHATAREVNOPNINTHECITERATUREITSHOUCDBEILGCELENTEDINAGROWRALLINWCANWUAWEOFYOURMHOIMEARRANWEFORANONCINEDELONSTRATIONOFYOURSYSTELTHIRDPRITEASLACCREGORTONTHESTATISTIMACCETTERFREQUENMIESOFENWCISHANDATCEASTONELORENATURACCANWUAWEANDDETERLINEPHIMHHASLOREENTROGYTHISHOLEPORVISDUEBEFORETHEREADINWBREAV\n"
     ]
    }
   ],
   "source": [
    "alpha_frequency[9]='C'\n",
    "alpha_frequency[12]='D'\n",
    "print(alpha_frequency)\n",
    "decrypt()"
   ]
  },
  {
   "cell_type": "code",
   "execution_count": 18,
   "metadata": {},
   "outputs": [
    {
     "name": "stdout",
     "output_type": "stream",
     "text": [
      "['E', 'T', 'R', 'O', 'I', 'N', 'A', 'S', 'H', 'C', 'L', 'U', 'D', 'M', 'F', 'Y', 'G', 'W', 'P', 'B', 'V', 'K', 'X', 'Q', 'J', 'Z']\n",
      "IFYOUAREREADINGTHISINWCAINTEKTENGCISHTHENYOUHAXEMORREMTCYDEMRYWTEDTHEFIRSTHOLEPORVFOROURMRYWTOGRAWHYMOURSEFORTHISFACCTPENTYNINETEENSELESTERWCEASESUBLITTHEFOCCOPINGITELSFORTHISHOLEPORVBYELAICFIRSTSENDTHESUBSTITUTIONTABCEFORTHEMIWHERUSEDTOENMRYWTTHISHOLEPORVSEMONDILWCELENTYOUROPNMIWHERBASEDONMCASSIMACIDEASTHATAREVNOPNINTHECITERATUREITSHOUCDBEILWCELENTEDINAWROGRALLINGCANGUAGEOFYOURMHOIMEARRANGEFORANONCINEDELONSTRATIONOFYOURSYSTELTHIRDPRITEASLACCREWORTONTHESTATISTIMACCETTERFREQUENMIESOFENGCISHANDATCEASTONELORENATURACCANGUAGEANDDETERLINEPHIMHHASLOREENTROWYTHISHOLEPORVISDUEBEFORETHEREADINGBREAV\n"
     ]
    }
   ],
   "source": [
    "alpha_frequency[16]='G'\n",
    "alpha_frequency[17]='W'\n",
    "print(alpha_frequency)\n",
    "decrypt()"
   ]
  },
  {
   "cell_type": "code",
   "execution_count": 19,
   "metadata": {},
   "outputs": [
    {
     "name": "stdout",
     "output_type": "stream",
     "text": [
      "['E', 'T', 'R', 'O', 'I', 'N', 'A', 'S', 'H', 'C', 'L', 'U', 'D', 'M', 'F', 'Y', 'G', 'P', 'W', 'B', 'V', 'K', 'X', 'Q', 'J', 'Z']\n",
      "IFYOUAREREADINGTHISINPCAINTEKTENGCISHTHENYOUHAXEMORREMTCYDEMRYPTEDTHEFIRSTHOLEWORVFOROURMRYPTOGRAPHYMOURSEFORTHISFACCTWENTYNINETEENSELESTERPCEASESUBLITTHEFOCCOWINGITELSFORTHISHOLEWORVBYELAICFIRSTSENDTHESUBSTITUTIONTABCEFORTHEMIPHERUSEDTOENMRYPTTHISHOLEWORVSEMONDILPCELENTYOUROWNMIPHERBASEDONMCASSIMACIDEASTHATAREVNOWNINTHECITERATUREITSHOUCDBEILPCELENTEDINAPROGRALLINGCANGUAGEOFYOURMHOIMEARRANGEFORANONCINEDELONSTRATIONOFYOURSYSTELTHIRDWRITEASLACCREPORTONTHESTATISTIMACCETTERFREQUENMIESOFENGCISHANDATCEASTONELORENATURACCANGUAGEANDDETERLINEWHIMHHASLOREENTROPYTHISHOLEWORVISDUEBEFORETHEREADINGBREAV\n"
     ]
    }
   ],
   "source": [
    "alpha_frequency[17]='P'\n",
    "alpha_frequency[18]='W'\n",
    "print(alpha_frequency)\n",
    "decrypt()"
   ]
  },
  {
   "cell_type": "code",
   "execution_count": 20,
   "metadata": {},
   "outputs": [
    {
     "name": "stdout",
     "output_type": "stream",
     "text": [
      "['E', 'T', 'R', 'O', 'I', 'N', 'A', 'S', 'H', 'L', 'C', 'U', 'D', 'M', 'F', 'Y', 'G', 'P', 'W', 'B', 'V', 'K', 'X', 'Q', 'J', 'Z']\n",
      "IFYOUAREREADINGTHISINPLAINTEKTENGLISHTHENYOUHAXEMORREMTLYDEMRYPTEDTHEFIRSTHOCEWORVFOROURMRYPTOGRAPHYMOURSEFORTHISFALLTWENTYNINETEENSECESTERPLEASESUBCITTHEFOLLOWINGITECSFORTHISHOCEWORVBYECAILFIRSTSENDTHESUBSTITUTIONTABLEFORTHEMIPHERUSEDTOENMRYPTTHISHOCEWORVSEMONDICPLECENTYOUROWNMIPHERBASEDONMLASSIMALIDEASTHATAREVNOWNINTHELITERATUREITSHOULDBEICPLECENTEDINAPROGRACCINGLANGUAGEOFYOURMHOIMEARRANGEFORANONLINEDECONSTRATIONOFYOURSYSTECTHIRDWRITEASCALLREPORTONTHESTATISTIMALLETTERFREQUENMIESOFENGLISHANDATLEASTONECORENATURALLANGUAGEANDDETERCINEWHIMHHASCOREENTROPYTHISHOCEWORVISDUEBEFORETHEREADINGBREAV\n"
     ]
    }
   ],
   "source": [
    "alpha_frequency[9]='L'\n",
    "alpha_frequency[10]='C'\n",
    "print(alpha_frequency)\n",
    "decrypt()"
   ]
  },
  {
   "cell_type": "code",
   "execution_count": 21,
   "metadata": {},
   "outputs": [
    {
     "name": "stdout",
     "output_type": "stream",
     "text": [
      "['E', 'T', 'R', 'O', 'I', 'N', 'A', 'S', 'H', 'L', 'C', 'U', 'D', 'M', 'F', 'Y', 'G', 'P', 'W', 'B', 'V', 'X', 'K', 'Q', 'J', 'Z']\n",
      "IFYOUAREREADINGTHISINPLAINTEXTENGLISHTHENYOUHAKEMORREMTLYDEMRYPTEDTHEFIRSTHOCEWORVFOROURMRYPTOGRAPHYMOURSEFORTHISFALLTWENTYNINETEENSECESTERPLEASESUBCITTHEFOLLOWINGITECSFORTHISHOCEWORVBYECAILFIRSTSENDTHESUBSTITUTIONTABLEFORTHEMIPHERUSEDTOENMRYPTTHISHOCEWORVSEMONDICPLECENTYOUROWNMIPHERBASEDONMLASSIMALIDEASTHATAREVNOWNINTHELITERATUREITSHOULDBEICPLECENTEDINAPROGRACCINGLANGUAGEOFYOURMHOIMEARRANGEFORANONLINEDECONSTRATIONOFYOURSYSTECTHIRDWRITEASCALLREPORTONTHESTATISTIMALLETTERFREQUENMIESOFENGLISHANDATLEASTONECORENATURALLANGUAGEANDDETERCINEWHIMHHASCOREENTROPYTHISHOCEWORVISDUEBEFORETHEREADINGBREAV\n"
     ]
    }
   ],
   "source": [
    "alpha_frequency[21]='X'\n",
    "alpha_frequency[22]='K'\n",
    "print(alpha_frequency)\n",
    "decrypt()"
   ]
  },
  {
   "cell_type": "code",
   "execution_count": 22,
   "metadata": {},
   "outputs": [
    {
     "name": "stdout",
     "output_type": "stream",
     "text": [
      "['E', 'T', 'R', 'O', 'I', 'N', 'A', 'S', 'H', 'L', 'C', 'U', 'D', 'M', 'F', 'Y', 'G', 'P', 'W', 'B', 'K', 'X', 'V', 'Q', 'J', 'Z']\n",
      "IFYOUAREREADINGTHISINPLAINTEXTENGLISHTHENYOUHAVEMORREMTLYDEMRYPTEDTHEFIRSTHOCEWORKFOROURMRYPTOGRAPHYMOURSEFORTHISFALLTWENTYNINETEENSECESTERPLEASESUBCITTHEFOLLOWINGITECSFORTHISHOCEWORKBYECAILFIRSTSENDTHESUBSTITUTIONTABLEFORTHEMIPHERUSEDTOENMRYPTTHISHOCEWORKSEMONDICPLECENTYOUROWNMIPHERBASEDONMLASSIMALIDEASTHATAREKNOWNINTHELITERATUREITSHOULDBEICPLECENTEDINAPROGRACCINGLANGUAGEOFYOURMHOIMEARRANGEFORANONLINEDECONSTRATIONOFYOURSYSTECTHIRDWRITEASCALLREPORTONTHESTATISTIMALLETTERFREQUENMIESOFENGLISHANDATLEASTONECORENATURALLANGUAGEANDDETERCINEWHIMHHASCOREENTROPYTHISHOCEWORKISDUEBEFORETHEREADINGBREAK\n"
     ]
    }
   ],
   "source": [
    "alpha_frequency[20]='K'\n",
    "alpha_frequency[22]='V'\n",
    "print(alpha_frequency)\n",
    "decrypt()"
   ]
  },
  {
   "cell_type": "code",
   "execution_count": 23,
   "metadata": {},
   "outputs": [
    {
     "name": "stdout",
     "output_type": "stream",
     "text": [
      "['E', 'T', 'R', 'O', 'I', 'N', 'A', 'S', 'H', 'L', 'M', 'U', 'D', 'C', 'F', 'Y', 'G', 'P', 'W', 'B', 'K', 'X', 'V', 'Q', 'J', 'Z']\n",
      "IFYOUAREREADINGTHISINPLAINTEXTENGLISHTHENYOUHAVECORRECTLYDECRYPTEDTHEFIRSTHOMEWORKFOROURCRYPTOGRAPHYCOURSEFORTHISFALLTWENTYNINETEENSEMESTERPLEASESUBMITTHEFOLLOWINGITEMSFORTHISHOMEWORKBYEMAILFIRSTSENDTHESUBSTITUTIONTABLEFORTHECIPHERUSEDTOENCRYPTTHISHOMEWORKSECONDIMPLEMENTYOUROWNCIPHERBASEDONCLASSICALIDEASTHATAREKNOWNINTHELITERATUREITSHOULDBEIMPLEMENTEDINAPROGRAMMINGLANGUAGEOFYOURCHOICEARRANGEFORANONLINEDEMONSTRATIONOFYOURSYSTEMTHIRDWRITEASMALLREPORTONTHESTATISTICALLETTERFREQUENCIESOFENGLISHANDATLEASTONEMORENATURALLANGUAGEANDDETERMINEWHICHHASMOREENTROPYTHISHOMEWORKISDUEBEFORETHEREADINGBREAK\n"
     ]
    }
   ],
   "source": [
    "alpha_frequency[10]='M'\n",
    "alpha_frequency[13]='C'\n",
    "print(alpha_frequency)\n",
    "decrypt()"
   ]
  },
  {
   "cell_type": "code",
   "execution_count": 34,
   "metadata": {},
   "outputs": [
    {
     "name": "stdout",
     "output_type": "stream",
     "text": [
      "Final Substitution Table: (Letter in encrypted:Original letter) \n",
      "{'Q': 'E', 'N': 'T', 'A': 'A', 'F': 'O', 'U': 'I', 'Z': 'N', 'W': 'S', 'M': 'R', 'S': 'H', 'Y': 'D', 'I': 'L', 'H': 'C', 'G': 'U', 'V': 'M', 'E': 'F', 'R': 'Y', 'X': 'W', 'P': 'G', 'L': 'P', 'C': 'B', 'B': 'V', 'D': 'K', 'T': 'X', 'K': 'Q'}\n"
     ]
    }
   ],
   "source": [
    "#final substitution table\n",
    "#decrypt()\n",
    "#print(encrypt_key)\n",
    "#print(alpha_frequency)\n",
    "print(\"Final Substitution Table: (encrypted letter:Original letter) \")\n",
    "print(cypher)"
   ]
  },
  {
   "cell_type": "markdown",
   "metadata": {},
   "source": [
    "IF YOU ARE READING THIS IN PLAIN TEXT ENGLISH THEN YOU HAVE CORRECTLY DECRYPTED THE FIRST HOMEWORK FOR OUR CRYPTOGRAPHY COURSE FOR THIS FALL TWENTY NINETEEN SEMESTER PLEASE SUBMIT THE FOLLOWING ITEMS FOR THIS HOMEWORK BY EMAIL \n",
    "FIRST SEND THE SUBSTITUTION TABLE FOR THE CIPHER USED TO ENCRYPT THIS HOMEWORK \n",
    "SECOND IMPLEMENT YOUR OWN CIPHER BASED ON CLASSICAL IDEAS THAT ARE KNOWN IN THE LITERATURE IT SHOULD BE IMPLEMENTED IN A PROGRAMMING LANGUAGE OF YOUR CHOICE ARRANGE FOR AN ONLINE DEMONSTRATION OF YOUR SYSTEM \n",
    "THIRD WRITE A SMALL REPORT ON THE STATISTICAL LETTER FREQUENCIES OF ENGLISH AND AT LEAST ONE MORE NATURAL LANGUAGE AND DETERMINE WHICH HAS MORE ENTROPY \n",
    "THIS HOMEWORK IS DUE BEFORE THE READING BREAK"
   ]
  },
  {
   "cell_type": "code",
   "execution_count": 25,
   "metadata": {},
   "outputs": [],
   "source": [
    "#Ceaser shift with incrementing shifts, resetting after 26 letters\n",
    "def varCeaserCiph(message):\n",
    "    encryptedMessage = \"\"\n",
    "    alpha = ['a','b','c','d','e','f','g','h','i','j','k','l','m','n','o','p','q','r','s','t','u','v','w','x','y','z']\n",
    "    counter = 1\n",
    "    messaage = message.lower()\n",
    "    for char in message:\n",
    "        try:\n",
    "            index = alpha.index(char)\n",
    "            sub = alpha[(index + counter) % 26]\n",
    "            encryptedMessage = encryptedMessage + sub\n",
    "            #print(char)\n",
    "            #print(sub)\n",
    "            #print(counter)\n",
    "            counter += 1\n",
    "            if counter == 27:\n",
    "                counter = 1\n",
    "                \n",
    "        except:\n",
    "            encryptedMessage = encryptedMessage + \" \"\n",
    "            \n",
    "    print(encryptedMessage)\n",
    "    return encryptedMessage"
   ]
  },
  {
   "cell_type": "code",
   "execution_count": 30,
   "metadata": {},
   "outputs": [],
   "source": [
    "#Decrypts my ceaser shift function\n",
    "def decryptCeaser(message):\n",
    "    decryptMessage = \"\"\n",
    "    alpha = ['a','b','c','d','e','f','g','h','i','j','k','l','m','n','o','p','q','r','s','t','u','v','w','x','y','z']\n",
    "    counter = 1\n",
    "    for char in message:\n",
    "        try:\n",
    "            index = alpha.index(char)\n",
    "            decryptMessage = decryptMessage + alpha[(index - counter) % 26]\n",
    "            counter += 1\n",
    "            if counter ==27:\n",
    "                counter = 1\n",
    "                \n",
    "        except:\n",
    "            decryptMessage = decryptMessage + \" \"\n",
    "            \n",
    "    print(decryptMessage)"
   ]
  },
  {
   "cell_type": "code",
   "execution_count": 32,
   "metadata": {},
   "outputs": [
    {
     "name": "stdout",
     "output_type": "stream",
     "text": [
      "ujh uzojs kbzia tdn amfjzz ltdr ujh pfff lxq\n",
      "the quick brown fox jumped over the lazy dog\n"
     ]
    }
   ],
   "source": [
    "encrypted = varCeaserCiph(\"the quick brown fox jumped over the lazy dog\")\n",
    "decryptCeaser(encrypted)"
   ]
  },
  {
   "cell_type": "code",
   "execution_count": null,
   "metadata": {},
   "outputs": [],
   "source": []
  }
 ],
 "metadata": {
  "kernelspec": {
   "display_name": "Python 3",
   "language": "python",
   "name": "python3"
  },
  "language_info": {
   "codemirror_mode": {
    "name": "ipython",
    "version": 3
   },
   "file_extension": ".py",
   "mimetype": "text/x-python",
   "name": "python",
   "nbconvert_exporter": "python",
   "pygments_lexer": "ipython3",
   "version": "3.7.3"
  }
 },
 "nbformat": 4,
 "nbformat_minor": 2
}
